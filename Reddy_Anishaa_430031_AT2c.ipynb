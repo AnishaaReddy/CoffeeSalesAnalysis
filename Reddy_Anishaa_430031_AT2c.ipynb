{
 "cells": [
  {
   "cell_type": "code",
   "execution_count": 26,
   "metadata": {},
   "outputs": [
    {
     "name": "stdout",
     "output_type": "stream",
     "text": [
      "Top 5 rows:\n",
      "\n",
      "Bottom 5 rows:\n",
      "\n",
      "Dataset Info:\n",
      "<class 'pandas.core.frame.DataFrame'>\n",
      "RangeIndex: 1062 entries, 0 to 1061\n",
      "Data columns (total 21 columns):\n",
      " #   Column                                  Non-Null Count  Dtype \n",
      "---  ------                                  --------------  ----- \n",
      " 0   Area Code                               1062 non-null   int64 \n",
      " 1   Cogs                                    1062 non-null   int64 \n",
      " 2   DifferenceBetweenActualandTargetProfit  1062 non-null   int64 \n",
      " 3   Date                                    1062 non-null   object\n",
      " 4   Inventory Margin                        1062 non-null   int64 \n",
      " 5   Margin                                  1062 non-null   int64 \n",
      " 6   Market_size                             1062 non-null   object\n",
      " 7   Market                                  1062 non-null   object\n",
      " 8   Marketing                               1062 non-null   int64 \n",
      " 9   Product_line                            1062 non-null   object\n",
      " 10  Product_type                            1062 non-null   object\n",
      " 11  Product                                 1062 non-null   object\n",
      " 12  Profit                                  1062 non-null   int64 \n",
      " 13  Sales                                   1062 non-null   int64 \n",
      " 14  State                                   1062 non-null   object\n",
      " 15  Target_cogs                             1062 non-null   int64 \n",
      " 16  Target_margin                           1062 non-null   int64 \n",
      " 17  Target_profit                           1062 non-null   int64 \n",
      " 18  Target_sales                            1062 non-null   int64 \n",
      " 19  Total_expenses                          1062 non-null   int64 \n",
      " 20  Type                                    1062 non-null   object\n",
      "dtypes: int64(13), object(8)\n",
      "memory usage: 174.4+ KB\n",
      "None\n"
     ]
    }
   ],
   "source": [
    "import pandas as pd\n",
    "filepath ='Coffee_Chain_Sales .csv'\n",
    "\n",
    "#1 Load Data Set into Pandas Data Frame\n",
    "data = pd.read_csv(filepath)\n",
    "\n",
    "#2 Display top and botton 5 rows\n",
    "print(\"Top 5 rows:\")\n",
    "print(data.head())\n",
    "print(\"\\nBottom 5 rows:\")\n",
    "print(data.tail())\n",
    "\n",
    "#3 Display data size and data type of columns\n",
    "print(\"\\nDataset Info:\")\n",
    "print(data.info())"
   ]
  },
  {
   "cell_type": "code",
   "execution_count": 27,
   "metadata": {},
   "outputs": [],
   "source": [
    "#4 Filtering out data (Analyzing data only for key attributes)\n",
    "\n",
    "columns_to_exclude = ['Marketing', 'remote_ratio']\n",
    "filtered_data = data[[\"Area Code\", \"Cogs\", \"DifferenceBetweenActualandTargetProfit\",\"Date\",\"Inventory Margin\",\"Margin\",\"Market_size\",\"Product_type\",\"Profit\",\"Sales\",\"State\"]]\n",
    "# Display the filtered data\n",
    "print(filtered_data)"
   ]
  },
  {
   "cell_type": "code",
   "execution_count": 28,
   "metadata": {},
   "outputs": [
    {
     "name": "stdout",
     "output_type": "stream",
     "text": [
      "Sum of sales for Texas in 2013: 1849\n",
      "Average sales for Texas in 2013: 142.23076923076923\n"
     ]
    },
    {
     "name": "stderr",
     "output_type": "stream",
     "text": [
      "C:\\Users\\anish\\AppData\\Local\\Temp\\ipykernel_22172\\306223927.py:7: SettingWithCopyWarning: \n",
      "A value is trying to be set on a copy of a slice from a DataFrame.\n",
      "Try using .loc[row_indexer,col_indexer] = value instead\n",
      "\n",
      "See the caveats in the documentation: https://pandas.pydata.org/pandas-docs/stable/user_guide/indexing.html#returning-a-view-versus-a-copy\n",
      "  filtered_data['Date'] = pd.to_datetime(data['Date'])\n"
     ]
    }
   ],
   "source": [
    "#5 Use for loop to find sum and average of a numerical column\n",
    "# Calculating average sales in Texas State for year 2013\n",
    "total_sales_2013_texas = 0\n",
    "count_2013_texas = 0\n",
    "\n",
    "# Convert the date column to datetime format\n",
    "filtered_data['Date'] = pd.to_datetime(data['Date'])\n",
    "\n",
    "#need to convert date column to date as it was string \n",
    "for index, row in filtered_data.iterrows():\n",
    "    if row['State'] == 'Texas' and pd.to_datetime(row['Date']).year == 2013:\n",
    "        total_sales_2013_texas += row['Sales']\n",
    "        count_2013_texas += 1\n",
    "\n",
    "# Calculate average\n",
    "average_sale = total_sales_2013_texas / count_2013_texas\n",
    "\n",
    "print(\"Sum of sales for Texas in 2013:\", total_sales_2013_texas)\n",
    "print(\"Average sales for Texas in 2013:\", average_sale)"
   ]
  },
  {
   "cell_type": "code",
   "execution_count": 29,
   "metadata": {},
   "outputs": [
    {
     "name": "stdout",
     "output_type": "stream",
     "text": [
      "Total Product types sold:\n",
      "Herbal Tea: 264\n",
      "Tea: 240\n",
      "Espresso: 294\n",
      "Coffee: 264\n"
     ]
    },
    {
     "name": "stderr",
     "output_type": "stream",
     "text": [
      "C:\\Users\\anish\\AppData\\Local\\Temp\\ipykernel_22172\\677663075.py:4: SettingWithCopyWarning: \n",
      "A value is trying to be set on a copy of a slice from a DataFrame.\n",
      "Try using .loc[row_indexer,col_indexer] = value instead\n",
      "\n",
      "See the caveats in the documentation: https://pandas.pydata.org/pandas-docs/stable/user_guide/indexing.html#returning-a-view-versus-a-copy\n",
      "  filtered_data['State'] = filtered_data['State'].str.lower()\n"
     ]
    }
   ],
   "source": [
    "#6 Convert string column to lowercase and count group value\n",
    "\n",
    "# Convert 'state' column to lowercase\n",
    "filtered_data['State'] = filtered_data['State'].str.lower()\n",
    "print(filtered_data['State'])\n",
    "\n",
    "# Count the group value\n",
    "state_counts = {}\n",
    "\n",
    "for state in data['Product_type']:\n",
    "    if state in state_counts:\n",
    "        state_counts[state] += 1\n",
    "    else:\n",
    "        state_counts[state] = 1\n",
    "\n",
    "# Display the counts\n",
    "print(\"Total Product types sold:\")\n",
    "for job_title, count in state_counts.items():\n",
    "    print(f\"{job_title}: {count}\")"
   ]
  },
  {
   "cell_type": "code",
   "execution_count": 30,
   "metadata": {},
   "outputs": [
    {
     "name": "stdout",
     "output_type": "stream",
     "text": [
      "         Area Code         Cogs  DifferenceBetweenActualandTargetProfit  \\\n",
      "count  1062.000000  1062.000000                             1062.000000   \n",
      "mean    587.030132    82.399247                                0.387006   \n",
      "min     203.000000     0.000000                             -369.000000   \n",
      "25%     425.000000    41.000000                              -15.000000   \n",
      "50%     573.000000    57.000000                               -3.000000   \n",
      "75%     774.000000   101.000000                               13.000000   \n",
      "max     985.000000   294.000000                              249.000000   \n",
      "std     225.299162    64.824295                               44.331180   \n",
      "\n",
      "                                Date  Inventory Margin       Margin  \\\n",
      "count                           1062       1062.000000  1062.000000   \n",
      "mean   2014-03-14 12:01:21.355932416        815.175141   102.423729   \n",
      "min              2012-10-01 00:00:00      -3534.000000  -294.000000   \n",
      "25%              2013-06-22 06:00:00        447.000000    51.000000   \n",
      "50%              2014-03-14 12:00:00        659.000000    73.000000   \n",
      "75%              2014-12-04 18:00:00        968.000000   130.000000   \n",
      "max              2015-08-27 00:00:00       8252.000000   526.000000   \n",
      "std                              NaN        916.156386    91.286704   \n",
      "\n",
      "            Profit        Sales  \n",
      "count  1062.000000  1062.000000  \n",
      "mean     60.556497   191.049906  \n",
      "min    -605.000000    21.000000  \n",
      "25%      16.250000    98.000000  \n",
      "50%      39.500000   133.000000  \n",
      "75%      87.000000   227.000000  \n",
      "max     646.000000   815.000000  \n",
      "std     100.516593   148.270317  \n"
     ]
    }
   ],
   "source": [
    "#7 Generate summary statistics\n",
    "\n",
    "summary_stats =filtered_data.describe()\n",
    "print(summary_stats)"
   ]
  },
  {
   "cell_type": "code",
   "execution_count": 31,
   "metadata": {},
   "outputs": [
    {
     "name": "stdout",
     "output_type": "stream",
     "text": [
      "\n",
      "Correlation Table:\n",
      "                                        Area Code      Cogs  \\\n",
      "Area Code                                1.000000  0.109246   \n",
      "Cogs                                     0.109246  1.000000   \n",
      "DifferenceBetweenActualandTargetProfit   0.006606  0.192030   \n",
      "Inventory Margin                         0.078211  0.575168   \n",
      "Margin                                   0.044471  0.682217   \n",
      "Profit                                   0.027214  0.469352   \n",
      "Sales                                    0.076943  0.888472   \n",
      "\n",
      "                                        DifferenceBetweenActualandTargetProfit  \\\n",
      "Area Code                                                             0.006606   \n",
      "Cogs                                                                  0.192030   \n",
      "DifferenceBetweenActualandTargetProfit                                1.000000   \n",
      "Inventory Margin                                                     -0.270966   \n",
      "Margin                                                                0.519115   \n",
      "Profit                                                                0.674608   \n",
      "Sales                                                                 0.433979   \n",
      "\n",
      "                                        Inventory Margin    Margin    Profit  \\\n",
      "Area Code                                       0.078211  0.044471  0.027214   \n",
      "Cogs                                            0.575168  0.682217  0.469352   \n",
      "DifferenceBetweenActualandTargetProfit         -0.270966  0.519115  0.674608   \n",
      "Inventory Margin                                1.000000 -0.096563 -0.262161   \n",
      "Margin                                         -0.096563  1.000000  0.918547   \n",
      "Profit                                         -0.262161  0.918547  1.000000   \n",
      "Sales                                           0.206739  0.939432  0.799925   \n",
      "\n",
      "                                           Sales  \n",
      "Area Code                               0.076943  \n",
      "Cogs                                    0.888472  \n",
      "DifferenceBetweenActualandTargetProfit  0.433979  \n",
      "Inventory Margin                        0.206739  \n",
      "Margin                                  0.939432  \n",
      "Profit                                  0.799925  \n",
      "Sales                                   1.000000  \n"
     ]
    }
   ],
   "source": [
    "#8 Generate correlation between numerical columns\n",
    "\n",
    "nnumeric_columns = filtered_data.select_dtypes(include=['float64', 'int64']).columns.tolist()\n",
    "print(\"\\nCorrelation Table:\")\n",
    "print(filtered_data[nnumeric_columns].corr())"
   ]
  },
  {
   "cell_type": "code",
   "execution_count": 32,
   "metadata": {},
   "outputs": [
    {
     "name": "stdout",
     "output_type": "stream",
     "text": [
      "\n",
      "Duplicate Rows: 0\n",
      "Duplicate Columns: 0\n"
     ]
    }
   ],
   "source": [
    "#9 Identify duplicate columns and rows\n",
    "duplicate_rows = data.duplicated().sum()\n",
    "duplicate_columns = data.columns.duplicated().sum()\n",
    "print(\"\\nDuplicate Rows:\", duplicate_rows)\n",
    "print(\"Duplicate Columns:\", duplicate_columns)"
   ]
  },
  {
   "cell_type": "code",
   "execution_count": 33,
   "metadata": {},
   "outputs": [
    {
     "name": "stdout",
     "output_type": "stream",
     "text": [
      "\n",
      "Null Counts:\n",
      "Area Code                                 0\n",
      "Cogs                                      0\n",
      "DifferenceBetweenActualandTargetProfit    0\n",
      "Date                                      0\n",
      "Inventory Margin                          0\n",
      "Margin                                    0\n",
      "Market_size                               0\n",
      "Market                                    0\n",
      "Marketing                                 0\n",
      "Product_line                              0\n",
      "Product_type                              0\n",
      "Product                                   0\n",
      "Profit                                    0\n",
      "Sales                                     0\n",
      "State                                     0\n",
      "Target_cogs                               0\n",
      "Target_margin                             0\n",
      "Target_profit                             0\n",
      "Target_sales                              0\n",
      "Total_expenses                            0\n",
      "Type                                      0\n",
      "dtype: int64\n",
      "\n",
      "Null Percentage:\n",
      "Area Code                                 0.0\n",
      "Cogs                                      0.0\n",
      "DifferenceBetweenActualandTargetProfit    0.0\n",
      "Date                                      0.0\n",
      "Inventory Margin                          0.0\n",
      "Margin                                    0.0\n",
      "Market_size                               0.0\n",
      "Market                                    0.0\n",
      "Marketing                                 0.0\n",
      "Product_line                              0.0\n",
      "Product_type                              0.0\n",
      "Product                                   0.0\n",
      "Profit                                    0.0\n",
      "Sales                                     0.0\n",
      "State                                     0.0\n",
      "Target_cogs                               0.0\n",
      "Target_margin                             0.0\n",
      "Target_profit                             0.0\n",
      "Target_sales                              0.0\n",
      "Total_expenses                            0.0\n",
      "Type                                      0.0\n",
      "dtype: float64\n"
     ]
    }
   ],
   "source": [
    "#10  Count and percentage of null values in the dataset\n",
    "null_counts = data.isnull().sum()\n",
    "null_percentage = (data.isnull().sum() / len(data)) * 100\n",
    "print(\"\\nNull Counts:\")\n",
    "print(null_counts)\n",
    "print(\"\\nNull Percentage:\")\n",
    "print(null_percentage)"
   ]
  }
 ],
 "metadata": {
  "kernelspec": {
   "display_name": "Python 3",
   "language": "python",
   "name": "python3"
  },
  "language_info": {
   "codemirror_mode": {
    "name": "ipython",
    "version": 3
   },
   "file_extension": ".py",
   "mimetype": "text/x-python",
   "name": "python",
   "nbconvert_exporter": "python",
   "pygments_lexer": "ipython3",
   "version": "3.11.9"
  }
 },
 "nbformat": 4,
 "nbformat_minor": 2
}
